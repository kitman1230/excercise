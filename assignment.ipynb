{
 "cells": [
  {
   "cell_type": "markdown",
   "id": "fc5845f4",
   "metadata": {},
   "source": [
    "*Excercise 1 :*"
   ]
  },
  {
   "cell_type": "code",
   "execution_count": 4,
   "id": "ced8d68d",
   "metadata": {},
   "outputs": [
    {
     "name": "stdout",
     "output_type": "stream",
     "text": [
      "149769\n"
     ]
    }
   ],
   "source": [
    "a = 100\n",
    "b = 29\n",
    "print(((a + b) * 3) ** 2)"
   ]
  },
  {
   "cell_type": "markdown",
   "id": "be8aa576",
   "metadata": {},
   "source": [
    "*Excercise 2 :*"
   ]
  },
  {
   "cell_type": "code",
   "execution_count": 10,
   "id": "86083169",
   "metadata": {},
   "outputs": [
    {
     "name": "stdout",
     "output_type": "stream",
     "text": [
      "Name:John\n",
      "Year of birth:1995\n",
      "Age:26\n",
      "95Joh676\n"
     ]
    }
   ],
   "source": [
    "p_name = input('Name:')\n",
    "p_birth = input('Year of birth:')\n",
    "p_age = int(input('Age:'))\n",
    "\n",
    "password = f'{p_birth[-2:]}{p_name[:3]}{str(p_age ** 2)}'\n",
    "print(password)"
   ]
  },
  {
   "cell_type": "markdown",
   "id": "5dda1d99",
   "metadata": {},
   "source": [
    "*Excercise 3 :*"
   ]
  },
  {
   "cell_type": "code",
   "execution_count": 8,
   "id": "d53e9b9b",
   "metadata": {
    "scrolled": true
   },
   "outputs": [
    {
     "name": "stdout",
     "output_type": "stream",
     "text": [
      "First numer:5\n",
      "Second number:6\n",
      "One of the numbers is even\n"
     ]
    }
   ],
   "source": [
    "first_num = int(input('First numer:') )\n",
    "second_num = int(input('Second number:'))\n",
    "a = first_num % 2 == 0\n",
    "b = second_num % 2 == 0\n",
    "\n",
    "if a and b:\n",
    "    print('Both of the numbers are even')\n",
    "elif a or b:\n",
    "    print('One of the numbers is even')\n",
    "else:\n",
    "    print('Both of the numbers are odd')"
   ]
  },
  {
   "cell_type": "markdown",
   "id": "5f925792",
   "metadata": {},
   "source": [
    "*Excercise 4 :*"
   ]
  },
  {
   "cell_type": "code",
   "execution_count": 10,
   "id": "60124283",
   "metadata": {},
   "outputs": [
    {
     "name": "stdout",
     "output_type": "stream",
     "text": [
      "Give an integer: 5\n",
      "The sum was: 10\n"
     ]
    }
   ],
   "source": [
    "a = int(input('Give an integer: '))\n",
    "total = 0\n",
    "\n",
    "for i in range(a):\n",
    "    total = total + i\n",
    "    \n",
    "print(\"The sum was:\",total)"
   ]
  },
  {
   "cell_type": "markdown",
   "id": "a5b736a2",
   "metadata": {},
   "source": [
    "*Excercise 5 :*"
   ]
  },
  {
   "cell_type": "code",
   "execution_count": 12,
   "id": "0c845be2",
   "metadata": {},
   "outputs": [
    {
     "name": "stdout",
     "output_type": "stream",
     "text": [
      "player: 3\n",
      "Try a greater number.\n",
      "player: 7\n",
      "Try a greater number.\n",
      "player: 9\n",
      "That's right! Number of ties:  3\n"
     ]
    }
   ],
   "source": [
    "import random\n",
    "\n",
    "dealer = random.randint(0,10)\n",
    "tries = 1\n",
    "player = 0\n",
    "\n",
    "while player != dealer:\n",
    "    player = int(input('player: '))\n",
    "    if player < dealer:\n",
    "        print('Try a greater number.')\n",
    "        tries += 1\n",
    "    elif player > dealer:\n",
    "        print('Try a smaller number.')\n",
    "        tries += 1\n",
    "    else:\n",
    "        print(\"That's right! Number of ties: \",tries)\n",
    "        "
   ]
  },
  {
   "cell_type": "markdown",
   "id": "d7074fbd",
   "metadata": {},
   "source": [
    "*Excercise extend :*"
   ]
  },
  {
   "cell_type": "code",
   "execution_count": 11,
   "id": "24d0b574",
   "metadata": {
    "scrolled": true
   },
   "outputs": [
    {
     "name": "stdout",
     "output_type": "stream",
     "text": [
      "player1: 3\n",
      "Try a greater number.\n",
      "player1: 5\n",
      "Try a greater number.\n",
      "player1: 7\n",
      "That's right! Number of tries: 3\n",
      "player2: 4\n",
      "Try a greater number.\n",
      "player2: 7\n",
      "That's right! Number of tries: 2\n",
      "Winer is Player2\n"
     ]
    }
   ],
   "source": [
    "import random\n",
    "\n",
    "dealer = random.randint(0,10)\n",
    "tries1 = tries2 = 1\n",
    "player1 = player2 = 0 \n",
    "\n",
    "while player1 != dealer:\n",
    "    player1 = int(input('player1: '))\n",
    "    if player1 < dealer:\n",
    "        print('Try a greater number.')\n",
    "        tries1 += 1\n",
    "    elif player1 > dealer:\n",
    "        print('Try a smaller number.')\n",
    "        tries1 += 1\n",
    "    else:\n",
    "        print('That\\'s right! Number of tries:', tries1)\n",
    "\n",
    "while player2 != dealer:\n",
    "    player2 = int(input('player2: '))\n",
    "    if player2 < dealer:\n",
    "        print('Try a greater number.')\n",
    "        tries2 += 1\n",
    "    elif player2 > dealer:\n",
    "        print('Try a small number.')\n",
    "        tries2 += 1\n",
    "    else:\n",
    "        print('That\\'s right! Number of tries:', tries2)\n",
    "\n",
    "if tries1 < tries2:\n",
    "    print('Winer is Player1')\n",
    "elif tries1 > tries2:\n",
    "    print('Winer is Player2')\n",
    "    \n",
    "else:\n",
    "    print('Both are winer') # when tires1 == tries2"
   ]
  },
  {
   "cell_type": "markdown",
   "id": "fd798814",
   "metadata": {},
   "source": []
  }
 ],
 "metadata": {
  "kernelspec": {
   "display_name": "Python 3 (ipykernel)",
   "language": "python",
   "name": "python3"
  },
  "language_info": {
   "codemirror_mode": {
    "name": "ipython",
    "version": 3
   },
   "file_extension": ".py",
   "mimetype": "text/x-python",
   "name": "python",
   "nbconvert_exporter": "python",
   "pygments_lexer": "ipython3",
   "version": "3.9.12"
  }
 },
 "nbformat": 4,
 "nbformat_minor": 5
}
